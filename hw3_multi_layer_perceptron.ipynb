{
  "nbformat": 4,
  "nbformat_minor": 0,
  "metadata": {
    "colab": {
      "name": "Untitled0.ipynb",
      "provenance": [],
      "collapsed_sections": []
    },
    "kernelspec": {
      "name": "python3",
      "display_name": "Python 3"
    },
    "language_info": {
      "name": "python"
    }
  },
  "cells": [
    {
      "cell_type": "code",
      "metadata": {
        "colab": {
          "base_uri": "https://localhost:8080/"
        },
        "id": "TqD0ejBlSebB",
        "outputId": "f560e711-c6f4-46ad-ac4f-41ade9d5ab08"
      },
      "source": [
        "import matplotlib.pyplot as plt\n",
        "from tensorflow import keras\n",
        "from keras.datasets import mnist\n",
        "from tensorflow.keras import layers\n",
        "\n",
        "(x_train, y_train), (x_test, y_test) = mnist.load_data()\n",
        "x_train = x_train.reshape(60000, 28*28)\n",
        "x_test = x_test.reshape(10000, 28*28)\n",
        "x_train = x_train.astype('float32')\n",
        "x_test = x_test.astype('float32')\n",
        "# normalize\n",
        "x_train /= 255\n",
        "x_test /= 255\n",
        "\n",
        "num_classes = 10\n",
        "model = keras.Sequential(\n",
        "    [\n",
        "        layers.Dense(32, input_shape=(28 * 28,), activation='relu'),\n",
        "        layers.Dense(8, activation='relu'),\n",
        "        layers.Dense(num_classes, activation='softmax')\n",
        "    ]\n",
        ")\n",
        "model.compile(optimizer='adam', loss='sparse_categorical_crossentropy', metrics=['accuracy'])\n",
        "epochs = 40\n",
        "\n",
        "history = model.fit(x_train, y_train,epochs=epochs,validation_split=0.2)"
      ],
      "execution_count": 9,
      "outputs": [
        {
          "output_type": "stream",
          "name": "stdout",
          "text": [
            "Epoch 1/40\n",
            "1500/1500 [==============================] - 4s 2ms/step - loss: 0.4808 - accuracy: 0.8574 - val_loss: 0.2575 - val_accuracy: 0.9283\n",
            "Epoch 2/40\n",
            "1500/1500 [==============================] - 3s 2ms/step - loss: 0.2313 - accuracy: 0.9346 - val_loss: 0.2028 - val_accuracy: 0.9408\n",
            "Epoch 3/40\n",
            "1500/1500 [==============================] - 3s 2ms/step - loss: 0.1849 - accuracy: 0.9469 - val_loss: 0.1838 - val_accuracy: 0.9474\n",
            "Epoch 4/40\n",
            "1500/1500 [==============================] - 3s 2ms/step - loss: 0.1579 - accuracy: 0.9533 - val_loss: 0.1725 - val_accuracy: 0.9517\n",
            "Epoch 5/40\n",
            "1500/1500 [==============================] - 3s 2ms/step - loss: 0.1383 - accuracy: 0.9594 - val_loss: 0.1557 - val_accuracy: 0.9570\n",
            "Epoch 6/40\n",
            "1500/1500 [==============================] - 3s 2ms/step - loss: 0.1232 - accuracy: 0.9640 - val_loss: 0.1585 - val_accuracy: 0.9541\n",
            "Epoch 7/40\n",
            "1500/1500 [==============================] - 3s 2ms/step - loss: 0.1108 - accuracy: 0.9667 - val_loss: 0.1677 - val_accuracy: 0.9516\n",
            "Epoch 8/40\n",
            "1500/1500 [==============================] - 3s 2ms/step - loss: 0.1022 - accuracy: 0.9694 - val_loss: 0.1484 - val_accuracy: 0.9594\n",
            "Epoch 9/40\n",
            "1500/1500 [==============================] - 3s 2ms/step - loss: 0.0945 - accuracy: 0.9720 - val_loss: 0.1504 - val_accuracy: 0.9578\n",
            "Epoch 10/40\n",
            "1500/1500 [==============================] - 3s 2ms/step - loss: 0.0878 - accuracy: 0.9732 - val_loss: 0.1592 - val_accuracy: 0.9563\n",
            "Epoch 11/40\n",
            "1500/1500 [==============================] - 3s 2ms/step - loss: 0.0816 - accuracy: 0.9755 - val_loss: 0.1433 - val_accuracy: 0.9607\n",
            "Epoch 12/40\n",
            "1500/1500 [==============================] - 3s 2ms/step - loss: 0.0764 - accuracy: 0.9763 - val_loss: 0.1489 - val_accuracy: 0.9592\n",
            "Epoch 13/40\n",
            "1500/1500 [==============================] - 3s 2ms/step - loss: 0.0724 - accuracy: 0.9778 - val_loss: 0.1443 - val_accuracy: 0.9613\n",
            "Epoch 14/40\n",
            "1500/1500 [==============================] - 3s 2ms/step - loss: 0.0696 - accuracy: 0.9784 - val_loss: 0.1414 - val_accuracy: 0.9617\n",
            "Epoch 15/40\n",
            "1500/1500 [==============================] - 3s 2ms/step - loss: 0.0654 - accuracy: 0.9797 - val_loss: 0.1473 - val_accuracy: 0.9605\n",
            "Epoch 16/40\n",
            "1500/1500 [==============================] - 3s 2ms/step - loss: 0.0606 - accuracy: 0.9816 - val_loss: 0.1588 - val_accuracy: 0.9605\n",
            "Epoch 17/40\n",
            "1500/1500 [==============================] - 3s 2ms/step - loss: 0.0592 - accuracy: 0.9819 - val_loss: 0.1559 - val_accuracy: 0.9622\n",
            "Epoch 18/40\n",
            "1500/1500 [==============================] - 3s 2ms/step - loss: 0.0562 - accuracy: 0.9829 - val_loss: 0.1526 - val_accuracy: 0.9626\n",
            "Epoch 19/40\n",
            "1500/1500 [==============================] - 3s 2ms/step - loss: 0.0529 - accuracy: 0.9837 - val_loss: 0.1552 - val_accuracy: 0.9599\n",
            "Epoch 20/40\n",
            "1500/1500 [==============================] - 3s 2ms/step - loss: 0.0506 - accuracy: 0.9846 - val_loss: 0.1585 - val_accuracy: 0.9609\n",
            "Epoch 21/40\n",
            "1500/1500 [==============================] - 3s 2ms/step - loss: 0.0475 - accuracy: 0.9853 - val_loss: 0.1763 - val_accuracy: 0.9570\n",
            "Epoch 22/40\n",
            "1500/1500 [==============================] - 3s 2ms/step - loss: 0.0464 - accuracy: 0.9858 - val_loss: 0.1664 - val_accuracy: 0.9600\n",
            "Epoch 23/40\n",
            "1500/1500 [==============================] - 3s 2ms/step - loss: 0.0433 - accuracy: 0.9863 - val_loss: 0.1708 - val_accuracy: 0.9603\n",
            "Epoch 24/40\n",
            "1500/1500 [==============================] - 3s 2ms/step - loss: 0.0409 - accuracy: 0.9877 - val_loss: 0.1759 - val_accuracy: 0.9567\n",
            "Epoch 25/40\n",
            "1500/1500 [==============================] - 3s 2ms/step - loss: 0.0400 - accuracy: 0.9872 - val_loss: 0.1788 - val_accuracy: 0.9590\n",
            "Epoch 26/40\n",
            "1500/1500 [==============================] - 3s 2ms/step - loss: 0.0388 - accuracy: 0.9881 - val_loss: 0.1821 - val_accuracy: 0.9586\n",
            "Epoch 27/40\n",
            "1500/1500 [==============================] - 3s 2ms/step - loss: 0.0379 - accuracy: 0.9881 - val_loss: 0.1714 - val_accuracy: 0.9601\n",
            "Epoch 28/40\n",
            "1500/1500 [==============================] - 3s 2ms/step - loss: 0.0352 - accuracy: 0.9889 - val_loss: 0.1879 - val_accuracy: 0.9582\n",
            "Epoch 29/40\n",
            "1500/1500 [==============================] - 3s 2ms/step - loss: 0.0342 - accuracy: 0.9891 - val_loss: 0.1909 - val_accuracy: 0.9574\n",
            "Epoch 30/40\n",
            "1500/1500 [==============================] - 3s 2ms/step - loss: 0.0325 - accuracy: 0.9893 - val_loss: 0.1881 - val_accuracy: 0.9611\n",
            "Epoch 31/40\n",
            "1500/1500 [==============================] - 3s 2ms/step - loss: 0.0323 - accuracy: 0.9892 - val_loss: 0.1862 - val_accuracy: 0.9586\n",
            "Epoch 32/40\n",
            "1500/1500 [==============================] - 3s 2ms/step - loss: 0.0296 - accuracy: 0.9911 - val_loss: 0.1897 - val_accuracy: 0.9607\n",
            "Epoch 33/40\n",
            "1500/1500 [==============================] - 3s 2ms/step - loss: 0.0300 - accuracy: 0.9904 - val_loss: 0.1985 - val_accuracy: 0.9581\n",
            "Epoch 34/40\n",
            "1500/1500 [==============================] - 3s 2ms/step - loss: 0.0276 - accuracy: 0.9912 - val_loss: 0.2040 - val_accuracy: 0.9577\n",
            "Epoch 35/40\n",
            "1500/1500 [==============================] - 3s 2ms/step - loss: 0.0261 - accuracy: 0.9915 - val_loss: 0.1976 - val_accuracy: 0.9605\n",
            "Epoch 36/40\n",
            "1500/1500 [==============================] - 3s 2ms/step - loss: 0.0256 - accuracy: 0.9913 - val_loss: 0.2080 - val_accuracy: 0.9597\n",
            "Epoch 37/40\n",
            "1500/1500 [==============================] - 3s 2ms/step - loss: 0.0257 - accuracy: 0.9917 - val_loss: 0.2117 - val_accuracy: 0.9583\n",
            "Epoch 38/40\n",
            "1500/1500 [==============================] - 3s 2ms/step - loss: 0.0246 - accuracy: 0.9920 - val_loss: 0.2098 - val_accuracy: 0.9605\n",
            "Epoch 39/40\n",
            "1500/1500 [==============================] - 3s 2ms/step - loss: 0.0232 - accuracy: 0.9925 - val_loss: 0.2081 - val_accuracy: 0.9604\n",
            "Epoch 40/40\n",
            "1500/1500 [==============================] - 3s 2ms/step - loss: 0.0224 - accuracy: 0.9929 - val_loss: 0.2201 - val_accuracy: 0.9593\n"
          ]
        }
      ]
    },
    {
      "cell_type": "code",
      "metadata": {
        "colab": {
          "base_uri": "https://localhost:8080/",
          "height": 439
        },
        "id": "JdM56gzuShQw",
        "outputId": "c9cd3ad0-8380-4969-acbd-f9ae86b60c9f"
      },
      "source": [
        "def show_train_history(train_history):\n",
        "    fig = plt.gcf()\n",
        "    fig.set_size_inches(16, 6)\n",
        "    plt.subplot(121)\n",
        "\n",
        "    if \"loss\" in train_history.history.keys():\n",
        "        plt.plot(train_history.history[\"loss\"])\n",
        "        \n",
        "    if \"val_loss\" in train_history.history.keys():\n",
        "        plt.plot(train_history.history[\"val_loss\"])\n",
        "\n",
        "    plt.title(\"Train History\")\n",
        "    plt.xlabel(\"Epoch\")\n",
        "    plt.xticks(range(1,41,3))\n",
        "    plt.ylabel(\"Loss\")\n",
        "    plt.legend([\"train\", \"test\"], loc=\"upper left\")\n",
        "    plt.show()\n",
        "\n",
        "scores, acc = model.evaluate(x_test, y_test, verbose=0)\n",
        "print('Test loss:', scores)\n",
        "print('Test accuracy:  %', 100*acc)\n",
        "show_train_history(history)"
      ],
      "execution_count": 11,
      "outputs": [
        {
          "output_type": "stream",
          "name": "stdout",
          "text": [
            "Test loss: 0.18171897530555725\n",
            "Test accuracy:  % 96.24000191688538\n"
          ]
        },
        {
          "output_type": "display_data",
          "data": {
            "image/png": "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\n",
            "text/plain": [
              "<Figure size 1152x432 with 1 Axes>"
            ]
          },
          "metadata": {
            "needs_background": "light"
          }
        }
      ]
    },
    {
      "cell_type": "code",
      "metadata": {
        "colab": {
          "base_uri": "https://localhost:8080/"
        },
        "id": "-PBrBfTl61Ap",
        "outputId": "f68340ff-de91-40a2-a5fd-644c2e960dfb"
      },
      "source": [
        "from sklearn.datasets import fetch_openml\n",
        "from sklearn import metrics, svm\n",
        "\n",
        "X, y = fetch_openml('mnist_784', version=1, return_X_y=True)\n",
        "X = X /255.0\n",
        "x_train, x_test, y_train, y_test = X[:60000], X[60000:70000], y[:60000], y[60000:70000]\n",
        "C_reg = 1\n",
        "\n",
        "classifier_reg = svm.SVC(C=C_reg,gamma=\"auto\")\n",
        "classifier_reg.fit(x_train, y_train)\n",
        "classifier_predicted_reg = classifier_reg.predict(x_test)\n",
        "\n",
        "print(\"SVM:  %\", 100*metrics.accuracy_score(y_test, classifier_predicted_reg), \"\\n\")"
      ],
      "execution_count": 12,
      "outputs": [
        {
          "output_type": "stream",
          "name": "stdout",
          "text": [
            "SVM with regularization accuracy:  % 94.46 \n",
            "\n"
          ]
        }
      ]
    }
