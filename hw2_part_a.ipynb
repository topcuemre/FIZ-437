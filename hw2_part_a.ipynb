{
 "cells": [
  {
   "cell_type": "markdown",
   "id": "5c8ad2a2",
   "metadata": {},
   "source": [
    "# SGD with Momentum"
   ]
  },
  {
   "cell_type": "markdown",
   "id": "c8cd11c5",
   "metadata": {},
   "source": [
    "$ \\nu_t = \\alpha \\nu_t + \\epsilon g_t$"
   ]
  },
  {
   "cell_type": "markdown",
   "id": "532c4798",
   "metadata": {},
   "source": [
    "$ \\Delta \\theta_t = - \\nu_t \\; \\; $   where   $ \\epsilon > 0  \\: $ and  $\\: 0 < \\alpha < 1$"
   ]
  },
  {
   "cell_type": "markdown",
   "id": "3ece37ca",
   "metadata": {},
   "source": [
    "***"
   ]
  },
  {
   "cell_type": "markdown",
   "id": "dccdc353",
   "metadata": {},
   "source": [
    "$ \\nu_{t+1} = \\alpha \\nu_t + \\epsilon g_{t+1} = \\alpha(\\alpha \\nu_{t-1} + \\epsilon g_t) + \\epsilon g_{t+1} $"
   ]
  },
  {
   "cell_type": "markdown",
   "id": "1d3c4c71",
   "metadata": {},
   "source": [
    "$ \\;\\;\\;\\;\\;\\  = \\alpha^2 \\nu_{t-1} + \\alpha \\epsilon g_t + \\epsilon g_{t+1} $"
   ]
  },
  {
   "cell_type": "markdown",
   "id": "276ae249",
   "metadata": {},
   "source": [
    "$ \\Delta \\theta_{t+1} = -\\nu_{t+1} = -\\alpha^2 \\nu_{t-1} - \\alpha \\epsilon g_t - \\epsilon g_{t+1}$"
   ]
  },
  {
   "cell_type": "markdown",
   "id": "efc1c641",
   "metadata": {},
   "source": [
    "# SGD with Running Average of g_t"
   ]
  },
  {
   "cell_type": "markdown",
   "id": "090274b4",
   "metadata": {},
   "source": [
    "$ \\nu_t = \\beta \\nu_{(t-1)} + (1 - \\beta) g_t$"
   ]
  },
  {
   "cell_type": "markdown",
   "id": "6a474eef",
   "metadata": {},
   "source": [
    "$ \\Delta \\theta_t = \\delta \\nu_t \\; \\; $ where $ \\beta  \\: \\epsilon \\:(0,1) \\; $ and $ \\delta > 0 $"
   ]
  },
  {
   "cell_type": "markdown",
   "id": "ded21c1f",
   "metadata": {},
   "source": [
    "***"
   ]
  },
  {
   "cell_type": "markdown",
   "id": "1abbaad2",
   "metadata": {},
   "source": [
    "$ \\nu_{t+1} = \\beta \\nu_t  + (1 - \\beta) g_{t+1} $"
   ]
  },
  {
   "cell_type": "markdown",
   "id": "b13b939d",
   "metadata": {},
   "source": [
    "$ \\;\\;\\;\\;\\;\\ = \\beta(\\beta\\nu_{t-1}  + (1 - \\beta) g_{t}) + (1 - \\beta)g_{t+1} $"
   ]
  },
  {
   "cell_type": "markdown",
   "id": "102ea7b2",
   "metadata": {},
   "source": [
    "$ \\;\\;\\;\\;\\;\\ = \\beta^2 \\nu_{t-1} + \\beta(1-\\beta)g_t + (1-\\beta)g_{t+1} $"
   ]
  },
  {
   "cell_type": "markdown",
   "id": "50340725",
   "metadata": {},
   "source": [
    "$\\Delta \\theta_{t+1} = \\delta \\nu_{t+1}  $"
   ]
  },
  {
   "cell_type": "markdown",
   "id": "45b945d5",
   "metadata": {},
   "source": [
    "$\\;\\;\\;\\;\\;\\;\\;\\;\\ = -\\delta\\beta^2\\nu_{t-1} - \\delta\\beta(1-\\beta)g_t - \\delta(1 - \\beta) g_{t+1} $"
   ]
  },
  {
   "cell_type": "markdown",
   "id": "29973487",
   "metadata": {},
   "source": [
    "### By recursively expressing,  show that these two update rules are equivalent"
   ]
  },
  {
   "cell_type": "markdown",
   "id": "4a32995a",
   "metadata": {},
   "source": [
    "$ -\\alpha^2 \\nu_{t-1} - \\alpha \\epsilon g_t - \\epsilon g_{t+1} == -\\delta\\beta^2\\nu_{t-1} - \\delta\\beta(1-\\beta)g_t - \\delta(1 - \\beta) g_{t+1} $"
   ]
  },
  {
   "cell_type": "markdown",
   "id": "9c989410",
   "metadata": {},
   "source": [
    "$ 1 ) \\;\\; \\alpha^2 = \\delta\\beta^2$"
   ]
  },
  {
   "cell_type": "markdown",
   "id": "07d683ed",
   "metadata": {},
   "source": [
    "$ 2) \\;\\;\\; \\alpha\\epsilon = \\delta\\beta(1-\\beta) $"
   ]
  },
  {
   "cell_type": "markdown",
   "id": "ddd81801",
   "metadata": {},
   "source": [
    "$ 3) \\;\\;\\; \\epsilon = \\delta(1 - \\beta) $"
   ]
  },
  {
   "cell_type": "markdown",
   "id": "2daec01d",
   "metadata": {},
   "source": [
    "***"
   ]
  },
  {
   "cell_type": "markdown",
   "id": "b27e63c7",
   "metadata": {},
   "source": [
    "### $ Express \\; \\nu_t \\; as \\; linear \\; combination \\; of g_t \\;'s $"
   ]
  },
  {
   "cell_type": "markdown",
   "id": "b462e156",
   "metadata": {},
   "source": [
    "##### Unrolling running average:    $ g_t  \\;\\;( 1 <= i <= t) $"
   ]
  },
  {
   "cell_type": "markdown",
   "id": "b7028867",
   "metadata": {},
   "source": [
    "$ \\nu_1 = \\alpha \\nu_0 + \\epsilon g_1 $"
   ]
  },
  {
   "cell_type": "markdown",
   "id": "ec5558eb",
   "metadata": {},
   "source": [
    "$ \\nu_2 = \\alpha (\\alpha \\nu_0 + \\epsilon g_1)  + \\epsilon g_2 $"
   ]
  },
  {
   "cell_type": "markdown",
   "id": "5a478f7b",
   "metadata": {},
   "source": [
    "$ \\nu_3 = \\alpha (\\alpha (\\alpha \\nu_0 + \\epsilon g_1)  + \\epsilon g_2)  + \\epsilon g_3 $"
   ]
  },
  {
   "cell_type": "markdown",
   "id": "1b1365bc",
   "metadata": {},
   "source": [
    "$ \\nu_t = \\alpha^t \\nu_0 + \\sum \\limits_{(i=1)} ^{t} \\epsilon \\alpha^{t-i} g_i $ "
   ]
  },
  {
   "cell_type": "code",
   "execution_count": null,
   "id": "8ce3f40e",
   "metadata": {},
   "outputs": [],
   "source": []
  }
 ],
 "metadata": {
  "kernelspec": {
   "display_name": "Python 3",
   "language": "python",
   "name": "python3"
  },
  "language_info": {
   "codemirror_mode": {
    "name": "ipython",
    "version": 3
   },
   "file_extension": ".py",
   "mimetype": "text/x-python",
   "name": "python",
   "nbconvert_exporter": "python",
   "pygments_lexer": "ipython3",
   "version": "3.8.8"
  }
 },
 "nbformat": 4,
 "nbformat_minor": 5
}
